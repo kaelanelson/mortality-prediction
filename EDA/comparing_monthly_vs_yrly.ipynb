{
 "cells": [
  {
   "cell_type": "code",
   "execution_count": 1,
   "metadata": {},
   "outputs": [],
   "source": [
    "import numpy as np\n",
    "import pandas as pd\n",
    "from matplotlib import pyplot as plt"
   ]
  },
  {
   "cell_type": "code",
   "execution_count": 33,
   "metadata": {},
   "outputs": [],
   "source": [
    "df_v1 = pd.read_csv('zip_train_v2.csv')\n",
    "df_v2 = pd.read_csv('zip_train_v3.csv')\n",
    "med_monthly = pd.read_csv('medicare_deaths_monthly_2011_2016.csv').drop(columns=['Unnamed: 0'])\n",
    "med_yearly = pd.read_csv('medicare_aggregated_zip_2011_2016.csv')\n",
    "d = pd.read_csv('zip_train_monthly.csv')\n",
    "d2 = pd.read_csv('merged_med_seasonal_2011_2016_v2.csv')"
   ]
  },
  {
   "cell_type": "code",
   "execution_count": 12,
   "metadata": {},
   "outputs": [
    {
     "data": {
      "text/plain": [
       "((1138464, 14), (2754348, 14))"
      ]
     },
     "execution_count": 12,
     "metadata": {},
     "output_type": "execute_result"
    }
   ],
   "source": [
    "med_monthly_sub = med_monthly[med_monthly.zip.isin(np.unique(df_v2.zip))]\n",
    "med_monthly_sub.shape, med_monthly.shape"
   ]
  }
 ],
 "metadata": {
  "kernelspec": {
   "display_name": "Python 3",
   "language": "python",
   "name": "python3"
  },
  "language_info": {
   "codemirror_mode": {
    "name": "ipython",
    "version": 3
   },
   "file_extension": ".py",
   "mimetype": "text/x-python",
   "name": "python",
   "nbconvert_exporter": "python",
   "pygments_lexer": "ipython3",
   "version": "3.6.9"
  }
 },
 "nbformat": 4,
 "nbformat_minor": 5
}
