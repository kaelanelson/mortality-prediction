{
 "cells": [
  {
   "cell_type": "code",
   "execution_count": 1,
   "metadata": {},
   "outputs": [],
   "source": [
    "import numpy as np\n",
    "import pandas as pd\n",
    "\n",
    "import warnings\n",
    "warnings.filterwarnings('ignore')"
   ]
  },
  {
   "cell_type": "markdown",
   "metadata": {},
   "source": [
    "### Aggregate to unique zip, remove zips without all 6 years, shift outcome, and split into train and test."
   ]
  },
  {
   "cell_type": "markdown",
   "metadata": {},
   "source": [
    "Aggregate to unique zip"
   ]
  },
  {
   "cell_type": "code",
   "execution_count": 2,
   "metadata": {},
   "outputs": [],
   "source": [
    "df = pd.read_csv('../data/merged_med_seasonal_2011_2016_v2.csv').drop(columns=['Unnamed: 0'])\n",
    "\n",
    "zip_df_pre = df.drop(columns=['year','ZIP'])\n",
    "\n",
    "# don't need this anymore - there is monthly population in  med_monthly\n",
    "# med_pop = pd.read_csv('medicare_pop_aggregated_2011_2016.csv')\n",
    "\n",
    "med_monthly = pd.read_csv('../data/medicare_deaths_monthly_2011_2016.csv').drop(columns=['Unnamed: 0'])"
   ]
  },
  {
   "cell_type": "code",
   "execution_count": 3,
   "metadata": {},
   "outputs": [],
   "source": [
    "def apply_month(m):\n",
    "    month_dict = {'JAN':1,'FEB':2,'MAR':3,'APR':4,\n",
    "             'MAY':5,'JUN':6,'JUL':7,'AUG':8,\n",
    "              'SEP':9,'OCT':10,'NOV':11,'DEC':12}\n",
    "    val = month_dict[m]\n",
    "    return val\n",
    "\n",
    "zip_df_pre['AMONTH'] = zip_df_pre['AMONTH'].apply(apply_month)"
   ]
  },
  {
   "cell_type": "code",
   "execution_count": 4,
   "metadata": {},
   "outputs": [],
   "source": [
    "merged_df2 = zip_df_pre.merge(med_monthly, how='inner', left_on=['zip','AYEAR','AMONTH'], right_on=['zip','year','month'])"
   ]
  },
  {
   "cell_type": "markdown",
   "metadata": {},
   "source": [
    "Shift zip (removing those without all 6 years"
   ]
  },
  {
   "cell_type": "code",
   "execution_count": 5,
   "metadata": {},
   "outputs": [],
   "source": [
    "def remove_zip_and_shift(df):\n",
    "    # find zips with missing years and months between 2011 - 2016\n",
    "    zipp = list(np.unique(df.zip))\n",
    "    zs = []\n",
    "    for z in zipp:\n",
    "        sub = df[df.zip == z]\n",
    "        # make sure each zip has all years\n",
    "        if np.unique(sub.AYEAR).shape[0] != 6:\n",
    "            zs.append(z)\n",
    "        \n",
    "        # make sure each zip has all months within each year\n",
    "        for year in np.unique(sub.AYEAR):\n",
    "            sub2 = sub[sub.AYEAR == year]\n",
    "            if np.unique(sub2.AMONTH).shape[0] != 12:\n",
    "                zs.append(z)\n",
    "    \n",
    "    # find zips that have all 6 years\n",
    "    zip_to_keep = list(np.setdiff1d(list(df.zip.values),zs))\n",
    "    \n",
    "    # only keep data with zips for all 6 years and all 12 months\n",
    "    sub_zip = df[df.zip.isin(zip_to_keep)]\n",
    "    \n",
    "    # shift yearly death count and dead variables by 1 year, so outcome is adjusted\n",
    "    # also shifts monthly death count variable by 1 year\n",
    "    zip_df_new = sub_zip.copy()\n",
    "    \n",
    "    # sort\n",
    "    zip_df_new_sorted = zip_df_new.groupby(zip_df_new['zip']).apply(lambda x: x.sort_values(by=['AYEAR','AMONTH'],ascending=True))\n",
    "    \n",
    "    # shift\n",
    "    zip_df_new_sorted['death_rate_next_year'] = zip_df_new_sorted.groupby(zip_df_new_sorted['zip'])['dead'].shift(-12) # yearly\n",
    "    zip_df_new_sorted['deaths_next_year'] = zip_df_new_sorted.groupby(zip_df_new_sorted['zip'])['death'].shift(-12) # yearly\n",
    "    zip_df_new_sorted['deaths_next_month'] = zip_df_new_sorted.groupby(zip_df_new_sorted['zip'])['deaths'].shift(-1) # monthly\n",
    "    return zip_df_new_sorted"
   ]
  },
  {
   "cell_type": "code",
   "execution_count": 6,
   "metadata": {},
   "outputs": [],
   "source": [
    "# z = merged_df2[merged_df2.popdensity==0].zip.values\n",
    "# merged_df3 =  merged_df2.loc[~merged_df2.zip.isin(z)]\n",
    "\n",
    "merged_df2['CVD_pdx2dx_25'] = merged_df2['CVD_pdx2dx_25'] +merged_df2['CHF_pdx2dx_25'] +merged_df2['AMI_pdx2dx_25'] + merged_df2['CSD_pdx2dx_25'] \n",
    "merged_df2['Stroke_pdx2dx_25'] = merged_df2['Stroke_pdx2dx_25'] + merged_df2['Hemo_Stroke_pdx2dx_25'] +merged_df2['Ischemic_stroke_pdx2dx_25']\n",
    "\n",
    "neos = ['neo_140_149', 'neo_150_159', 'neo_160_165', 'neo_170_176', 'neo_179_189',\n",
    "       'neo_190_199', 'neo_200_209', 'neo_230_234',\n",
    "       'neo_235_238', 'neo_239']\n",
    "\n",
    "merged_df2['malignant_neoplasms'] = 0\n",
    "for n in neos:\n",
    "    merged_df2['malignant_neoplasms']+= merged_df2[n] \n"
   ]
  },
  {
   "cell_type": "code",
   "execution_count": 7,
   "metadata": {},
   "outputs": [],
   "source": [
    "# zs = np.unique(merged_df2[merged_df2.popdensity==0].zip)\n",
    "# merged_df3 = merged_df2[~merged_df2.zip.isin(zs)]\n",
    "# merged_df3.shape, merged_df2.shape"
   ]
  },
  {
   "cell_type": "code",
   "execution_count": 8,
   "metadata": {},
   "outputs": [],
   "source": [
    "# merged_df4 = merged_df3.copy()\n",
    "\n",
    "# cols_to_adj = ['death', \n",
    "#                'ICU_DAY', 'CCI_DAY', 'LOS','Parkinson_pdx2dx_25', 'Alzheimer_pdx2dx_25', \n",
    "#                'Dementia_pdx2dx_25','CHF_pdx2dx_25', 'AMI_pdx2dx_25', 'COPD_pdx2dx_25', \n",
    "#                'DM_pdx2dx_25', 'Stroke_pdx2dx_25', 'CVD_pdx2dx_25', 'CSD_pdx2dx_25',\n",
    "#                'Ischemic_stroke_pdx2dx_25', 'Hemo_Stroke_pdx2dx_25', 'neo_140_149',\n",
    "#                'neo_150_159', 'neo_160_165', 'neo_170_176', 'neo_179_189',\n",
    "#                'neo_190_199', 'neo_200_209', 'neo_210_229', 'neo_230_234',\n",
    "#                'neo_235_238', 'neo_239', 'malignant_neoplasms',\n",
    "#                'm_count', 'f_count','white_count', 'black_count',\n",
    "#                'hispanic_count', 'asian_count', 'native_count','deaths']\n",
    "\n",
    "\n",
    "# for c in cols_to_adj:\n",
    "#     merged_df4[c] = merged_df4[c]/merged_df4.population\n",
    "# zip_df2 = remove_zip_and_shift(merged_df4).drop(columns=['zip']).reset_index().drop(columns=['level_1'])"
   ]
  },
  {
   "cell_type": "code",
   "execution_count": 7,
   "metadata": {},
   "outputs": [],
   "source": [
    "zip_df2 = remove_zip_and_shift(merged_df2).drop(columns=['zip']).reset_index().drop(columns=['level_1'])"
   ]
  },
  {
   "cell_type": "markdown",
   "metadata": {},
   "source": [
    "Monthly"
   ]
  },
  {
   "cell_type": "code",
   "execution_count": 10,
   "metadata": {},
   "outputs": [],
   "source": [
    "# cols_to_adj = ['f_count', 'm_count', 'white_count','black_count', \n",
    "#         'hispanic_count', 'asian_count','native_count']\n",
    "\n",
    "# new_cols = ['f_prop', 'm_prop', 'white_prop','black_prop', \n",
    "#         'hispanic_prop', 'asian_prop','native_prop']\n",
    "\n",
    "# for i in range(len(cols_to_adj)):\n",
    "#     zip_df3[new_cols[i]] = zip_df3[cols_to_adj[i]]/zip_df3['population']"
   ]
  },
  {
   "cell_type": "code",
   "execution_count": 11,
   "metadata": {},
   "outputs": [],
   "source": [
    "zip_test_monthly = zip_df2[zip_df2.AYEAR == 2016]\n",
    "zip_train_monthly = zip_df2[zip_df2.AYEAR != 2016]"
   ]
  },
  {
   "cell_type": "code",
   "execution_count": 12,
   "metadata": {},
   "outputs": [],
   "source": [
    "zip_train_monthly.to_csv('zip_train_monthly.csv') # rolling averages, aggregated by zip, month, year, outcome shifted\n",
    "zip_test_monthly.to_csv('zip_test_monthly.csv')\n",
    "\n",
    "# zip_train_monthly.to_csv('zip_train_monthly_v2.csv') # rolling averages, aggregated by zip, month, year, outcome shifted, adjusted for population\n",
    "# zip_test_monthly.to_csv('zip_test_monthly_v2.csv')"
   ]
  },
  {
   "cell_type": "markdown",
   "metadata": {},
   "source": [
    "Yearly"
   ]
  },
  {
   "cell_type": "code",
   "execution_count": 17,
   "metadata": {},
   "outputs": [],
   "source": [
    "# be careful for which ones change monthly - only sum those that change monthly, not yearly or else its double counted\n",
    "col_to_agg = {'sex':'mean', 'age':'mean', 'statecode':max,\n",
    "       'dual':max, 'death':max, 'dead':'mean', 'poverty': 'mean', 'popdensity': 'mean', \n",
    "       'medianhousevalue': 'mean','pct_blk': 'mean', 'medhouseholdincome' : 'mean', 'pct_owner_occ': 'mean',\n",
    "       'hispanic': 'mean','education': 'mean', 'smoke_rate': 'mean', 'mean_bmi': 'mean', \n",
    "       'rmax': 'mean', 'pr': 'mean', \n",
    "       'race_0':'mean', 'race_1':'mean', 'race_2':'mean', 'race_3':'mean', \n",
    "       'race_4':'mean', 'race_5':'mean', 'race_6':'mean',\n",
    "       'ICU_DAY':sum, 'CCI_DAY':sum, 'LOS':'mean', 'Parkinson_pdx2dx_25':sum,\n",
    "       'Alzheimer_pdx2dx_25':sum, 'Dementia_pdx2dx_25':sum, 'CHF_pdx2dx_25':sum,\n",
    "       'AMI_pdx2dx_25':sum, 'COPD_pdx2dx_25':sum, 'DM_pdx2dx_25':sum, 'Stroke_pdx2dx_25':sum,\n",
    "       'CVD_pdx2dx_25':sum, 'CSD_pdx2dx_25':sum, 'Ischemic_stroke_pdx2dx_25':sum,\n",
    "       'Hemo_Stroke_pdx2dx_25':sum, 'neo_140_149':sum, 'neo_150_159':sum, 'neo_160_165':sum,\n",
    "       'neo_170_176':sum, 'neo_179_189':sum, 'neo_190_199':sum, 'neo_200_209':sum,\n",
    "       'neo_210_229':sum, 'neo_230_234':sum, 'neo_235_238':sum, 'neo_239':sum, \n",
    "       'pm25_summer_4y_avg':'mean', 'pm25_winter_4y_avg':'mean', 'pm25_fall_4y_avg':'mean', 'pm25_spring_4y_avg': 'mean',\n",
    "       'ozone_summer_4y_avg':'mean', 'ozone_winter_4y_avg':'mean', 'ozone_fall_4y_avg': 'mean', 'ozone_spring_4y_avg': 'mean',\n",
    "       'no2_summer_4y_avg':'mean', 'no2_winter_4y_avg': 'mean', 'no2_fall_4y_avg': 'mean', 'no2_spring_4y_avg': 'mean', \n",
    "       'summer_tmmx_4y_avg': 'mean','summer_rmax_4y_avg': 'mean', 'winter_tmmx_4y_avg': 'mean', 'winter_rmax_4y_avg': 'mean',\n",
    "        'm_count':max, 'f_count':max, 'mean_age':'mean',\n",
    "        'population':max, # population is monthly\n",
    "       'white_count':'mean', 'black_count':'mean', 'hispanic_count':'mean', 'asian_count':'mean',\n",
    "       'native_count':'mean','deaths_next_year':max}\n",
    "\n",
    "col_to_agg2 = {'sex':'mean', 'age':'mean', 'statecode':max,\n",
    "       'dual':max, 'death':max, 'dead':'mean', 'poverty': 'mean', 'popdensity': 'mean', \n",
    "       'medianhousevalue': 'mean','pct_blk': 'mean', 'medhouseholdincome' : 'mean', 'pct_owner_occ': 'mean',\n",
    "       'hispanic': 'mean','education': 'mean', 'smoke_rate': 'mean', 'mean_bmi': 'mean', \n",
    "       'rmax': 'mean', 'pr': 'mean', \n",
    "       'race_0':'mean', 'race_1':'mean', 'race_2':'mean', 'race_3':'mean', \n",
    "       'race_4':'mean', 'race_5':'mean', 'race_6':'mean',\n",
    "       'ICU_DAY':sum, 'CCI_DAY':sum, 'LOS':'mean', 'Parkinson_pdx2dx_25':sum,\n",
    "       'Alzheimer_pdx2dx_25':sum, 'Dementia_pdx2dx_25':sum, 'CHF_pdx2dx_25':sum,\n",
    "       'AMI_pdx2dx_25':sum, 'COPD_pdx2dx_25':sum, 'DM_pdx2dx_25':sum, 'Stroke_pdx2dx_25':sum,\n",
    "       'CVD_pdx2dx_25':sum, 'CSD_pdx2dx_25':sum, 'Ischemic_stroke_pdx2dx_25':sum,\n",
    "       'Hemo_Stroke_pdx2dx_25':sum, 'neo_140_149':sum, 'neo_150_159':sum, 'neo_160_165':sum,\n",
    "       'neo_170_176':sum, 'neo_179_189':sum, 'neo_190_199':sum, 'neo_200_209':sum,\n",
    "       'neo_210_229':sum, 'neo_230_234':sum, 'neo_235_238':sum, 'neo_239':sum, \n",
    "        'malignant_neoplasms':sum, \n",
    "       'pm25_summer_4y_avg':'mean', 'pm25_winter_4y_avg':'mean', 'pm25_fall_4y_avg':'mean', 'pm25_spring_4y_avg': 'mean',\n",
    "       'ozone_summer_4y_avg':'mean', 'ozone_winter_4y_avg':'mean', 'ozone_fall_4y_avg': 'mean', 'ozone_spring_4y_avg': 'mean',\n",
    "       'no2_summer_4y_avg':'mean', 'no2_winter_4y_avg': 'mean', 'no2_fall_4y_avg': 'mean', 'no2_spring_4y_avg': 'mean', \n",
    "       'summer_tmmx_4y_avg': 'mean','summer_rmax_4y_avg': 'mean', 'winter_tmmx_4y_avg': 'mean', 'winter_rmax_4y_avg': 'mean',\n",
    "        'm_count':'mean', 'f_count':'mean', 'mean_age':'mean',\n",
    "        'population':max, # population is monthly\n",
    "       'white_count':'mean', 'black_count':'mean', 'hispanic_count':'mean', 'asian_count':'mean',\n",
    "       'native_count':'mean','deaths_next_year':max, 'death_rate_next_year':'mean'}\n",
    "\n",
    "zip_df_yearly = zip_df2.groupby(['zip', 'AYEAR']).aggregate(col_to_agg2)\n",
    "zip_df_yearly = zip_df_yearly.reset_index()"
   ]
  },
  {
   "cell_type": "code",
   "execution_count": 18,
   "metadata": {},
   "outputs": [],
   "source": [
    "zip_train_yearly  = zip_df_yearly[zip_df_yearly.AYEAR != 2016]\n",
    "zip_test_yearly = zip_df_yearly[zip_df_yearly.AYEAR == 2016]\n",
    "\n",
    "zip_train_yearly.to_csv('zip_train_yearly.csv') # rolling averages, aggregated by zip, month, year, outcome shifted for rnn\n",
    "zip_test_yearly.to_csv('zip_test_yearly.csv')\n",
    "\n",
    "# zip_train_yearly.to_csv('zip_train_yearly_v2.csv') # rolling averages, aggregated by zip, month, year, outcome shifted for rnn\n",
    "# zip_test_yearly.to_csv('zip_test_yearly_v2.csv')"
   ]
  },
  {
   "cell_type": "code",
   "execution_count": 36,
   "metadata": {},
   "outputs": [],
   "source": [
    "# monthly visualizations\n",
    "merged_df3.to_csv('merged_df3_monthly.csv')"
   ]
  },
  {
   "cell_type": "code",
   "execution_count": 31,
   "metadata": {},
   "outputs": [],
   "source": [
    "# create data for visualization\n",
    "col_to_agg3 = {'sex':'mean', 'age':'mean', 'statecode':max,\n",
    "       'dual':max, 'death':max, 'dead':'mean', 'poverty': 'mean', 'popdensity': 'mean', \n",
    "       'medianhousevalue': 'mean','pct_blk': 'mean', 'medhouseholdincome' : 'mean', 'pct_owner_occ': 'mean',\n",
    "       'hispanic': 'mean','education': 'mean', 'smoke_rate': 'mean', 'mean_bmi': 'mean', \n",
    "       'rmax': 'mean', 'pr': 'mean', \n",
    "       'race_0':'mean', 'race_1':'mean', 'race_2':'mean', 'race_3':'mean', \n",
    "       'race_4':'mean', 'race_5':'mean', 'race_6':'mean',\n",
    "       'ICU_DAY':sum, 'CCI_DAY':sum, 'LOS':'mean', 'Parkinson_pdx2dx_25':sum,\n",
    "       'Alzheimer_pdx2dx_25':sum, 'Dementia_pdx2dx_25':sum, 'CHF_pdx2dx_25':sum,\n",
    "       'AMI_pdx2dx_25':sum, 'COPD_pdx2dx_25':sum, 'DM_pdx2dx_25':sum, 'Stroke_pdx2dx_25':sum,\n",
    "       'CVD_pdx2dx_25':sum, 'CSD_pdx2dx_25':sum, 'Ischemic_stroke_pdx2dx_25':sum,\n",
    "       'Hemo_Stroke_pdx2dx_25':sum, 'neo_140_149':sum, 'neo_150_159':sum, 'neo_160_165':sum,\n",
    "       'neo_170_176':sum, 'neo_179_189':sum, 'neo_190_199':sum, 'neo_200_209':sum,\n",
    "       'neo_210_229':sum, 'neo_230_234':sum, 'neo_235_238':sum, 'neo_239':sum, \n",
    "        'malignant_neoplasms':sum, \n",
    "       'pm25_summer_4y_avg':'mean', 'pm25_winter_4y_avg':'mean', 'pm25_fall_4y_avg':'mean', 'pm25_spring_4y_avg': 'mean',\n",
    "       'ozone_summer_4y_avg':'mean', 'ozone_winter_4y_avg':'mean', 'ozone_fall_4y_avg': 'mean', 'ozone_spring_4y_avg': 'mean',\n",
    "       'no2_summer_4y_avg':'mean', 'no2_winter_4y_avg': 'mean', 'no2_fall_4y_avg': 'mean', 'no2_spring_4y_avg': 'mean', \n",
    "       'summer_tmmx_4y_avg': 'mean','summer_rmax_4y_avg': 'mean', 'winter_tmmx_4y_avg': 'mean', 'winter_rmax_4y_avg': 'mean',\n",
    "        'm_count':'mean', 'f_count':'mean', 'mean_age':'mean',\n",
    "        'population':'mean', # population is monthly\n",
    "       'white_count':'mean', 'black_count':'mean', 'hispanic_count':'mean', 'asian_count':'mean',\n",
    "       'native_count':'mean','deaths':sum}\n",
    "\n",
    "merged_df3_yearly = merged_df3.groupby(['zip', 'AYEAR']).aggregate(col_to_agg3)\n",
    "merged_df3_yearly = merged_df3_yearly.reset_index()"
   ]
  },
  {
   "cell_type": "code",
   "execution_count": 34,
   "metadata": {},
   "outputs": [],
   "source": [
    "merged_df3_yearly.to_csv('merged_df3.csv')"
   ]
  },
  {
   "cell_type": "markdown",
   "metadata": {},
   "source": [
    "## Create Separate Datasets for lower and higher population"
   ]
  },
  {
   "cell_type": "code",
   "execution_count": 28,
   "metadata": {},
   "outputs": [],
   "source": [
    "zip_df_yearly_lower_pop = zip_df_yearly[zip_df_yearly.population < 12295]\n",
    "zip_df_yearly_higher_pop = zip_df_yearly[zip_df_yearly.population >= 12295]"
   ]
  },
  {
   "cell_type": "code",
   "execution_count": 30,
   "metadata": {},
   "outputs": [],
   "source": [
    "zip_train_yearly_lower_pop  = zip_df_yearly_lower_pop[zip_df_yearly_lower_pop.AYEAR != 2016]\n",
    "zip_test_yearly_lower_pop = zip_df_yearly_lower_pop[zip_df_yearly_lower_pop.AYEAR == 2016]\n",
    "\n",
    "zip_train_yearly_lower_pop.to_csv('zip_train_yearly_lower_pop.csv') # rolling averages, aggregated by zip, month, year, outcome shifted for rnn\n",
    "zip_test_yearly_lower_pop.to_csv('zip_test_yearly_lower_pop.csv')\n",
    "\n",
    "zip_train_yearly_higher_pop  = zip_df_yearly_higher_pop[zip_df_yearly_higher_pop.AYEAR != 2016]\n",
    "zip_test_yearly_higher_pop = zip_df_yearly_higher_pop[zip_df_yearly_higher_pop.AYEAR == 2016]\n",
    "\n",
    "zip_train_yearly_higher_pop.to_csv('zip_train_yearly_higher_pop.csv') # rolling averages, aggregated by zip, month, year, outcome shifted for rnn\n",
    "zip_test_yearly_higher_pop.to_csv('zip_test_yearly_higher_pop.csv')"
   ]
  },
  {
   "cell_type": "code",
   "execution_count": 9,
   "metadata": {},
   "outputs": [],
   "source": [
    "# sort merged-df2\n",
    "# merged_df2_sorted = merged_df2.groupby(merged_df2['zip']).apply(lambda x: x.sort_values(by=['AYEAR','AMONTH'],ascending=True))\n",
    "\n",
    "# find change in deaths\n",
    "# zip_df2['change_in_monthly_deaths'] = zip_df2['deaths'] - merged_df2_sorted['deaths']"
   ]
  },
  {
   "cell_type": "markdown",
   "metadata": {},
   "source": [
    "Split into train and test: i.e. 2011-2015, and 2016"
   ]
  },
  {
   "cell_type": "markdown",
   "metadata": {},
   "source": [
    "Save Results"
   ]
  },
  {
   "cell_type": "code",
   "execution_count": 18,
   "metadata": {},
   "outputs": [],
   "source": [
    "# zip_train.to_csv('zip_train.csv') - no rolling averages\n",
    "# zip_test.to_csv('zip_test.csv')\n",
    "# zip_train.to_csv('zip_train_v2.csv') -rolling averages, aggregated by zip, year\n",
    "# zip_test.to_csv('zip_test_v2.csv')\n",
    "# zip_train.to_csv('zip_train_v3.csv') # rolling averages, aggregated by zip, month, year, outcomem not shifted for rnn\n",
    "# zip_test.to_csv('zip_test_v3.csv')\n",
    "zip_train.to_csv('zip_train_v4.csv') # rolling averages, aggregated by zip, month, year, outcome shifted for rnn\n",
    "zip_test.to_csv('zip_test_v4.csv')"
   ]
  }
 ],
 "metadata": {
  "kernelspec": {
   "display_name": "Python 3",
   "language": "python",
   "name": "python3"
  },
  "language_info": {
   "codemirror_mode": {
    "name": "ipython",
    "version": 3
   },
   "file_extension": ".py",
   "mimetype": "text/x-python",
   "name": "python",
   "nbconvert_exporter": "python",
   "pygments_lexer": "ipython3",
   "version": "3.6.9"
  }
 },
 "nbformat": 4,
 "nbformat_minor": 4
}
