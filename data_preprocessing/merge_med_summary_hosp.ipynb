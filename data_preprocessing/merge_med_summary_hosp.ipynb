{
 "cells": [
  {
   "cell_type": "code",
   "execution_count": 1,
   "metadata": {},
   "outputs": [],
   "source": [
    "import numpy as np\n",
    "import pandas as pd"
   ]
  },
  {
   "cell_type": "markdown",
   "metadata": {},
   "source": [
    "Merge medicare summary file and hospital admissions"
   ]
  },
  {
   "cell_type": "code",
   "execution_count": 2,
   "metadata": {},
   "outputs": [],
   "source": [
    "med_agg = pd.read_csv(\"medicare_aggregated_zip_2011_2016.csv\")\n",
    "hosp_df = pd.read_csv(\"hosp_aggregated_zip_2011_2016.csv\")"
   ]
  },
  {
   "cell_type": "code",
   "execution_count": 4,
   "metadata": {},
   "outputs": [],
   "source": [
    "# have to do this again  - agg over zip, not statecode and zip where there are duplicates\n",
    "col_to_agg = {'sex':'mean', 'age':'mean', 'dual':'sum', 'death':'sum',\n",
    "       'dead':'mean',  \n",
    "       'poverty':'mean', 'popdensity':'mean','medianhousevalue':'mean', \n",
    "       'pct_blk':'mean', 'medhouseholdincome':'mean', 'pct_owner_occ':'mean',\n",
    "       'hispanic':'mean', 'education':'mean', 'smoke_rate':'mean', \n",
    "       'mean_bmi':'mean','rmax':'mean', 'pr':'mean',\n",
    "       'race_0':'mean', 'race_1':'mean', 'race_2':'mean', 'race_3':'mean', \n",
    "       'race_4':'mean', 'race_5':'mean', 'race_6':'mean'}\n",
    "\n",
    "med_agg2 = med_agg.groupby(['zip','year']).aggregate(col_to_agg)\n",
    "med_agg2.reset_index(inplace=True)"
   ]
  },
  {
   "cell_type": "markdown",
   "metadata": {},
   "source": [
    "Merge for 2011 - 2016"
   ]
  },
  {
   "cell_type": "code",
   "execution_count": 11,
   "metadata": {},
   "outputs": [
    {
     "name": "stdout",
     "output_type": "stream",
     "text": [
      "(1847207, 55) (1841692, 55)\n"
     ]
    }
   ],
   "source": [
    "merged_med_full = med_agg2.merge(hosp_df,how='left',left_on=['zip','year'],right_on=['zip','AYEAR'])\n",
    "\n",
    "merged_med_full2 = merged_med_full.dropna()\n",
    "print(merged_med_full.shape, merged_med_full2.shape)"
   ]
  },
  {
   "cell_type": "code",
   "execution_count": 10,
   "metadata": {},
   "outputs": [],
   "source": [
    "merged_med_full2.to_csv('medicare_hosp_merged_zip_2011_2016.csv')"
   ]
  }
 ],
 "metadata": {
  "kernelspec": {
   "display_name": "Python 3",
   "language": "python",
   "name": "python3"
  },
  "language_info": {
   "codemirror_mode": {
    "name": "ipython",
    "version": 3
   },
   "file_extension": ".py",
   "mimetype": "text/x-python",
   "name": "python",
   "nbconvert_exporter": "python",
   "pygments_lexer": "ipython3",
   "version": "3.6.9"
  }
 },
 "nbformat": 4,
 "nbformat_minor": 4
}
