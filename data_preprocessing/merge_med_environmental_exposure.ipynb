{
 "cells": [
  {
   "cell_type": "code",
   "execution_count": 1,
   "metadata": {},
   "outputs": [],
   "source": [
    "import numpy as np\n",
    "import pandas as pd"
   ]
  },
  {
   "cell_type": "markdown",
   "metadata": {},
   "source": [
    "Merge Environmental Data"
   ]
  },
  {
   "cell_type": "code",
   "execution_count": null,
   "metadata": {},
   "outputs": [],
   "source": [
    "# load in and merge seasonal data\n",
    "# temp, humidity, pr\n",
    "temp_seasonal = pd.read_csv(\"../../ci3_confounders/data_for_analysis/earth_engine/temperature/temperature_seasonal_zipcode_combined.csv\")\n",
    "\n",
    "# wind\n",
    "# wind_seasonal = pd.read_csv(\"../../ci3_confounders/data_for_analysis/earth_engine/wind/wind_seasonal_zipcode_combined.csv\")\n",
    "\n",
    "# pm, ozone, no2\n",
    "pm_seasonal = pd.read_csv(\"../../ci3_exposure/pm25/whole_us/seasonal/zipcode/pm25_seasonalavg_zipcode.csv\")\n",
    "\n",
    "ozone_seasonal = pd.read_csv(\"../../ci3_exposure/ozone/whole_us/seasonal/zipcode/ozone_seasonalavg_zipcode.csv\")\n",
    "\n",
    "no2_seasonal = pd.read_csv(\"../../ci3_exposure/no2/whole_us/seasonal/zipcode/no2_seasonalavg_zipcode.csv\")"
   ]
  },
  {
   "cell_type": "code",
   "execution_count": null,
   "metadata": {},
   "outputs": [],
   "source": [
    "# drop nan values\n",
    "dfs = [temp_seasonal,pm_seasonal,ozone_seasonal,no2_seasonal]\n",
    "for df in dfs:\n",
    "    df.dropna(inplace=True)"
   ]
  },
  {
   "cell_type": "code",
   "execution_count": null,
   "metadata": {},
   "outputs": [],
   "source": [
    "# merge together on ZIP and year\n",
    "merged_df1 = pm_seasonal.merge(ozone_seasonal,how='left',left_on=['ZIP','year'],right_on=['ZIP','year'])\n",
    "merged_df2 = merged_df1.merge(no2_seasonal,how='left',left_on=['ZIP','year'],right_on=['ZIP','year'])\n",
    "merged_df3 = merged_df2.merge(temp_seasonal,how='left',left_on=['ZIP','year'],right_on=['ZIP','year'])\n",
    "\n",
    "# drop nan and save\n",
    "seasonal_data = merged_df3.dropna()\n",
    "seasonal_data.to_csv(\"seasonal_environmental_data.csv\")"
   ]
  },
  {
   "cell_type": "markdown",
   "metadata": {},
   "source": [
    "Calculate Moving Averages"
   ]
  },
  {
   "cell_type": "code",
   "execution_count": 2,
   "metadata": {},
   "outputs": [],
   "source": [
    "s_df = pd.read_csv(\"seasonal_environmental_data.csv\")"
   ]
  },
  {
   "cell_type": "code",
   "execution_count": 81,
   "metadata": {},
   "outputs": [],
   "source": [
    "def calc_rolling_avg(df, cols_to_avg, avg_num):\n",
    "        \n",
    "    for c in cols_to_avg:\n",
    "        # calculate 4 year average\n",
    "        avg = (df.assign(a = df.rolling(window=avg_num)[c].mean()).groupby([df['ZIP'],df['year']])['a'].last())\n",
    "        # assign to df\n",
    "        df[c + '_' + str(avg_num) + 'y_avg'] = list(avg.values)\n",
    "        \n",
    "    return df"
   ]
  },
  {
   "cell_type": "code",
   "execution_count": 82,
   "metadata": {},
   "outputs": [],
   "source": [
    "cols = ['pm25_summer', 'pm25_winter', 'pm25_fall',\n",
    "   'pm25_spring', 'ozone_summer', 'ozone_winter', 'ozone_fall',\n",
    "   'ozone_spring', 'no2_summer', 'no2_winter', 'no2_fall', 'no2_spring',\n",
    "   'summer_tmmx', 'summer_rmax', 'winter_tmmx', 'winter_rmax']\n",
    "\n",
    "s_df = s_df[['ZIP','year']+cols]\n",
    "# df_w_avg = calc_rolling_avg(s_df, cols, 4)"
   ]
  },
  {
   "cell_type": "code",
   "execution_count": 83,
   "metadata": {},
   "outputs": [],
   "source": [
    "# avg = s_df.groupby(['ZIP','year']).assign(a = s_df.rolling(window=4)['pm25_summer'].mean()) #.groupby([s_df['ZIP','year']])['a'].last())\n",
    "# avg.ozone_spring_4y_avg.\n",
    "import warnings\n",
    "warnings.filterwarnings('ignore')\n",
    "\n",
    "cols = ['pm25_summer', 'pm25_winter', 'pm25_fall',\n",
    "   'pm25_spring', 'ozone_summer', 'ozone_winter', 'ozone_fall',\n",
    "   'ozone_spring', 'no2_summer', 'no2_winter', 'no2_fall', 'no2_spring',\n",
    "   'summer_tmmx', 'summer_rmax', 'winter_tmmx', 'winter_rmax']\n",
    "\n",
    "zips = np.unique(s_df.ZIP)\n",
    "df_w_avg_vals = []\n",
    "\n",
    "for i,z in enumerate(zips):\n",
    "    df_sub = s_df[s_df.ZIP == z]\n",
    "    for c in cols:\n",
    "        avg = (df_sub.assign(a = df_sub.rolling(window=4)[c].mean()).groupby([df_sub['year']])['a'].last())\n",
    "        df_sub[c + '_' + str(4) + 'y_avg'] = list(avg.values)\n",
    "        \n",
    "    df_sub2 = df_sub.drop(columns = cols)\n",
    "    df_w_avg_vals.append(df_sub2)\n",
    "\n",
    "df_w_avg = pd.concat(df_w_avg_vals)"
   ]
  },
  {
   "cell_type": "markdown",
   "metadata": {},
   "source": [
    "Merge for 2011-2016"
   ]
  },
  {
   "cell_type": "code",
   "execution_count": 96,
   "metadata": {},
   "outputs": [],
   "source": [
    "# now merge with medicare data\n",
    "med_data = pd.read_csv(\"medicare_hosp_merged_zip_2011_2016.csv\").drop(columns=['Unnamed: 0'])"
   ]
  },
  {
   "cell_type": "code",
   "execution_count": 98,
   "metadata": {},
   "outputs": [],
   "source": [
    "merged_data_full_avg = med_data.merge(df_w_avg,how='left',left_on=['zip','year'],right_on=['ZIP','year'])\n",
    "merged_data_full_avg2 = merged_data_full_avg.dropna()"
   ]
  }
 ],
 "metadata": {
  "kernelspec": {
   "display_name": "Python 3",
   "language": "python",
   "name": "python3"
  },
  "language_info": {
   "codemirror_mode": {
    "name": "ipython",
    "version": 3
   },
   "file_extension": ".py",
   "mimetype": "text/x-python",
   "name": "python",
   "nbconvert_exporter": "python",
   "pygments_lexer": "ipython3",
   "version": "3.6.9"
  }
 },
 "nbformat": 4,
 "nbformat_minor": 4
}
